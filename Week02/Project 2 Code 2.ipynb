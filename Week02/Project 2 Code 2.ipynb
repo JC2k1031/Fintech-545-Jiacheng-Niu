{
 "cells": [
  {
   "cell_type": "code",
   "execution_count": 31,
   "id": "ccc71629-4e9b-4f43-b1cc-89fa93bd8349",
   "metadata": {},
   "outputs": [
    {
     "name": "stdout",
     "output_type": "stream",
     "text": [
      "0    -0.838485\n",
      "1     0.835296\n",
      "2     1.027428\n",
      "3     1.319711\n",
      "4    -0.152317\n",
      "        ...   \n",
      "95   -1.590264\n",
      "96   -1.694848\n",
      "97    0.434878\n",
      "98    0.402261\n",
      "99   -0.922319\n",
      "Name: y, Length: 100, dtype: float64\n",
      "Mean Squared Error: 1.436148485406261\n"
     ]
    },
    {
     "data": {
      "image/png": "[encoded data removed]",
      "text/plain": [
       "<Figure size 432x288 with 1 Axes>"
      ]
     },
     "metadata": {
      "needs_background": "light"
     },
     "output_type": "display_data"
    }
   ],
   "source": [
    "\n",
    "\n",
    "'''Problem 2.1'''\n",
    "import pandas as pd\n",
    "from sklearn.linear_model import LinearRegression\n",
    "from sklearn.metrics import mean_squared_error\n",
    "import numpy as np\n",
    "\n",
    "\n",
    "\n",
    "# reading data from the csv\n",
    "data = pd.read_csv('problem2.csv')\n",
    " \n",
    "# defining the variables\n",
    "x = data[[\"x\"]]\n",
    "y = data[\"y\"]\n",
    "\n",
    "model = LinearRegression().fit(x, y)\n",
    "\n",
    "y_pred = model.predict(X)\n",
    "\n",
    "error = y - y_pred\n",
    "print(error)\n",
    "\n",
    "mse = mean_squared_error(y, y_pred)\n",
    "print('Mean Squared Error:', mse)\n",
    "\n",
    "import matplotlib.pyplot as plt\n",
    "plt.hist(error, bins=20)\n",
    "plt.xlabel(\"Error\")\n",
    "plt.ylabel(\"Frequency\")\n",
    "plt.show()\n"
   ]
  },
  {
   "cell_type": "code",
   "execution_count": null,
   "id": "4519014a-25eb-4674-a533-4f835d95ca8c",
   "metadata": {},
   "outputs": [],
   "source": []
  },
  {
   "cell_type": "code",
   "execution_count": 32,
   "id": "39e4c914-278c-4765-8086-a2c516d5dee8",
   "metadata": {},
   "outputs": [
    {
     "name": "stdout",
     "output_type": "stream",
     "text": [
      "                                 OLS Regression Results                                \n",
      "=======================================================================================\n",
      "Dep. Variable:                      y   R-squared (uncentered):                   0.193\n",
      "Model:                            OLS   Adj. R-squared (uncentered):              0.185\n",
      "Method:                 Least Squares   F-statistic:                              23.69\n",
      "Date:                Sat, 28 Jan 2023   Prob (F-statistic):                    4.28e-06\n",
      "Time:                        04:43:14   Log-Likelihood:                         -160.49\n",
      "No. Observations:                 100   AIC:                                      323.0\n",
      "Df Residuals:                      99   BIC:                                      325.6\n",
      "Df Model:                           1                                                  \n",
      "Covariance Type:            nonrobust                                                  \n",
      "==============================================================================\n",
      "                 coef    std err          t      P>|t|      [0.025      0.975]\n",
      "------------------------------------------------------------------------------\n",
      "x1             0.6052      0.124      4.867      0.000       0.358       0.852\n",
      "==============================================================================\n",
      "Omnibus:                       14.146   Durbin-Watson:                   1.866\n",
      "Prob(Omnibus):                  0.001   Jarque-Bera (JB):               43.674\n",
      "Skew:                          -0.267   Prob(JB):                     3.28e-10\n",
      "Kurtosis:                       6.193   Cond. No.                         1.00\n",
      "==============================================================================\n",
      "\n",
      "Notes:\n",
      "[1] R² is computed without centering (uncentered) since the model does not contain a constant.\n",
      "[2] Standard Errors assume that the covariance matrix of the errors is correctly specified.\n"
     ]
    },
    {
     "data": {
      "image/png": "[encoded data removed]",
      "text/plain": [
       "<Figure size 432x288 with 1 Axes>"
      ]
     },
     "metadata": {
      "needs_background": "light"
     },
     "output_type": "display_data"
    }
   ],
   "source": [
    "import statsmodels.api as sm\n",
    "import pandas as pd\n",
    " \n",
    "# reading data from the csv\n",
    "data = pd.read_csv('problem2.csv')\n",
    " \n",
    "# defining the variables\n",
    "x = data['x'].tolist()\n",
    "y = data['y'].tolist()\n",
    " \n",
    "plt.scatter(x, y)\n",
    "\n",
    " \n",
    "# performing the regression\n",
    "# and fitting the model\n",
    "result = sm.OLS(y, x).fit()\n",
    " \n",
    "# printing the summary table\n",
    "print(result.summary())\n",
    "\n"
   ]
  },
  {
   "cell_type": "code",
   "execution_count": 33,
   "id": "692b8432-c0af-4743-92c9-253d3cc24375",
   "metadata": {},
   "outputs": [
    {
     "name": "stdout",
     "output_type": "stream",
     "text": [
      "Mean: x   -0.000108\n",
      "y    0.119771\n",
      "dtype: float64\n",
      "Standard deviation: x    0.973459\n",
      "y    1.335379\n",
      "dtype: float64\n",
      "-164.98030503846343\n"
     ]
    },
    {
     "name": "stderr",
     "output_type": "stream",
     "text": [
      "/opt/conda/lib/python3.9/site-packages/numpy/core/fromnumeric.py:3472: FutureWarning: In a future version, DataFrame.mean(axis=None) will return a scalar mean over the entire DataFrame. To retain the old behavior, use 'frame.mean(axis=0)' or just 'frame.mean()'\n",
      "  return mean(axis=axis, dtype=dtype, out=out, **kwargs)\n"
     ]
    }
   ],
   "source": [
    "import numpy as np\n",
    "\n",
    "data = pd.read_csv(\"problem2.csv\")\n",
    "\n",
    "mean = np.mean(data)\n",
    "print(\"Mean:\", mean)\n",
    "\n",
    "std = np.std(data)\n",
    "print(\"Standard deviation:\", std)\n",
    "\n",
    "n = 100\n",
    "std = 0.973459\n",
    "s2 = std * std\n",
    "ll = -n/2 * np.log(s2 * 2 * np.pi) - np.dot(error, error)/(2*s2)\n",
    "print(ll)\n",
    "\n",
    "\n"
   ]
  },
  {
   "cell_type": "code",
   "execution_count": 34,
   "id": "25c1cf48-8c4c-44e8-9837-6ef776245fc6",
   "metadata": {},
   "outputs": [
    {
     "name": "stdout",
     "output_type": "stream",
     "text": [
      "Degrees of freedom:  6.333284887806247\n",
      "Location:  0.02566742247500011\n",
      "Scale:  0.9735839051227253\n",
      "-164.97369318364713\n"
     ]
    }
   ],
   "source": [
    "import numpy as np\n",
    "from scipy.stats import t\n",
    "\n",
    "df, loc, scale = t.fit(error)\n",
    "print(\"Degrees of freedom: \", df)\n",
    "print(\"Location: \", loc)\n",
    "print(\"Scale: \", scale)\n",
    "\n",
    "s2 = scale * scale\n",
    "ll = -n/2 * np.log(s2 * 2 * np.pi) - np.dot(error, error)/(2*s2)\n",
    "print(ll)"
   ]
  },
  {
   "cell_type": "code",
   "execution_count": null,
   "id": "b4b1d58d-8bd8-48cd-80b7-2957ecffe498",
   "metadata": {},
   "outputs": [],
   "source": []
  }
 ],
 "metadata": {
  "kernelspec": {
   "display_name": "Python 3 (ipykernel)",
   "language": "python",
   "name": "python3"
  },
  "language_info": {
   "codemirror_mode": {
    "name": "ipython",
    "version": 3
   },
   "file_extension": ".py",
   "mimetype": "text/x-python",
   "name": "python",
   "nbconvert_exporter": "python",
   "pygments_lexer": "ipython3",
   "version": "3.9.7"
  }
 },
 "nbformat": 4,
 "nbformat_minor": 5
}
