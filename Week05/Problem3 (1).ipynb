{
 "cells": [
  {
   "cell_type": "code",
   "execution_count": 1,
   "id": "5ac08844-77b0-4cb5-b298-258536e43229",
   "metadata": {},
   "outputs": [
    {
     "name": "stderr",
     "output_type": "stream",
     "text": [
      "/tmp/ipykernel_955/1638063690.py:8: DeprecationWarning: Please use `shift` from the `scipy.ndimage` namespace, the `scipy.ndimage.interpolation` namespace is deprecated.\n",
      "  from scipy.ndimage.interpolation import shift\n"
     ]
    }
   ],
   "source": [
    "import numpy as np\n",
    "import matplotlib.pyplot as plt\n",
    "import seaborn as sns\n",
    "import pandas as pd\n",
    "import lib\n",
    "import pandas as pd\n",
    "import numpy as np\n",
    "from scipy.ndimage.interpolation import shift\n",
    "from scipy.stats import t, shapiro, gaussian_kde\n",
    "from scipy.optimize import minimize, fsolve\n",
    "\n",
    "# Read in data from CSV files\n",
    "prices = pd.read_csv(\"DailyPrices.csv\", parse_dates=[0], index_col=0)\n",
    "portfolios = pd.read_csv(\"portfolio.csv\")\n",
    "\n",
    "# Calculate returns of the prices using pd_return_calculate function\n",
    "returns = lib.pd_return_calculate(prices)\n",
    "\n",
    "\n",
    "# Group the portfolios dataframe by 'Stock' and sum the 'Holding' column\n",
    "total_holdings = portfolios.groupby('Stock')['Holding'].sum().reset_index()\n",
    "\n",
    "# Add a new 'Portfolio' column with value 'Total' to the total_holdings dataframe\n",
    "total_holdings['Portfolio'] = 'Total'\n",
    "\n",
    "# Concatenate the original portfolios dataframe and the total_holdings dataframe\n",
    "portfolios = pd.concat([portfolios, total_holdings])\n",
    "\n"
   ]
  },
  {
   "cell_type": "code",
   "execution_count": 2,
   "id": "92eda6c2-483f-451d-98f1-05b0e0c3567f",
   "metadata": {},
   "outputs": [],
   "source": [
    "t_params = {}\n",
    "hist_data = []\n",
    "sim_data = []\n",
    "\n",
    "# Loop over each column in the returns dataframe\n",
    "for col in returns:\n",
    "    # Get the stock returns for the current column and standardize them\n",
    "    stock_returns = returns[col] - returns[col].mean()\n",
    "    # Add the standardized returns to the historical data list\n",
    "    hist_data.append(stock_returns)\n",
    "\n",
    "    # Fit a Generalized t distribution to the stock returns\n",
    "    df, loc, scale = t.fit(stock_returns, method='MLE')\n",
    "    t_params[col] = [df, loc, scale]\n",
    "\n",
    "    # Simulate based on the t distribution for the current stock\n",
    "    sim_data.append(t(df, loc, scale).rvs(10000))\n",
    "\n",
    "\n",
    "hist_data = np.array(hist_data)\n",
    "sim_data = np.array(sim_data)\n",
    "\n",
    "\n",
    "# create pandas dataframe for the returns\n",
    "historical_returns = pd.DataFrame(columns=returns.columns, data=hist_data.T)"
   ]
  },
  {
   "cell_type": "code",
   "execution_count": 3,
   "id": "a880ec93-1d8f-4b58-a60d-08cd64accca8",
   "metadata": {},
   "outputs": [
    {
     "name": "stdout",
     "output_type": "stream",
     "text": [
      "Portfolio A VaR: 8805.507754785509\n",
      "Portfolio A ES: 10438.09016614881\n",
      "\n",
      "Portfolio B VaR: 6981.307577790557\n",
      "Portfolio B ES: 8945.79531744502\n",
      "\n",
      "Portfolio C VaR: 5496.294533012176\n",
      "Portfolio C ES: 7436.626667146727\n",
      "\n",
      "Portfolio Total VaR: 21076.418322771402\n",
      "Portfolio Total ES: 26687.791306205952\n",
      "\n"
     ]
    }
   ],
   "source": [
    "# for historical data\n",
    "current_prices = pd.DataFrame({\"Price\":prices.iloc[-1]})\n",
    "\n",
    "# Loop over each portfolio in the groupby object\n",
    "for portfolio_index, portfolio in portfolios.groupby('Portfolio'):\n",
    "    # Set the index to 'Stock' and join with current_prices dataframe\n",
    "    portfolio = portfolio.set_index('Stock')\n",
    "    portfolio = portfolio.join(current_prices.loc[portfolio.index])\n",
    "\n",
    "    # Calculate simulated returns and values\n",
    "    sim_prices_change = historical_returns[portfolio.index] * portfolio['Price'].T\n",
    "    sim_values_change = sim_prices_change @ portfolio['Holding']\n",
    "\n",
    "    # Calculate VaR and ES using the lib module\n",
    "    historic_var = lib.calculate_var(sim_values_change)\n",
    "    historic_es = lib.calculate_es(sim_values_change)\n",
    "\n",
    "    # Print results\n",
    "    print(f\"Portfolio {portfolio_index} VaR: {historic_var}\")\n",
    "    print(f\"Portfolio {portfolio_index} ES: {historic_es}\")\n",
    "    print()\n",
    "\n",
    "\n",
    "     "
   ]
  },
  {
   "cell_type": "code",
   "execution_count": null,
   "id": "8c8b3a4c-bb21-45de-8828-fe0bd15b9162",
   "metadata": {},
   "outputs": [],
   "source": []
  },
  {
   "cell_type": "code",
   "execution_count": null,
   "id": "cebc6722-6e59-4802-98cb-1c0a49064067",
   "metadata": {},
   "outputs": [],
   "source": []
  },
  {
   "cell_type": "code",
   "execution_count": null,
   "id": "f867fb74-c3e7-4105-8d48-27fc39392b06",
   "metadata": {},
   "outputs": [],
   "source": []
  }
 ],
 "metadata": {
  "kernelspec": {
   "display_name": "Python 3 (ipykernel)",
   "language": "python",
   "name": "python3"
  },
  "language_info": {
   "codemirror_mode": {
    "name": "ipython",
    "version": 3
   },
   "file_extension": ".py",
   "mimetype": "text/x-python",
   "name": "python",
   "nbconvert_exporter": "python",
   "pygments_lexer": "ipython3",
   "version": "3.9.7"
  }
 },
 "nbformat": 4,
 "nbformat_minor": 5
}
