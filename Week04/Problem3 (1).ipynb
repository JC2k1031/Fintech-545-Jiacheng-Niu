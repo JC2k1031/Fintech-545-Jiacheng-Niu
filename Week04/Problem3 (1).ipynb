{
 "cells": [
  {
   "cell_type": "code",
   "execution_count": 38,
   "id": "acc6501c-1ad3-4eea-bdf8-dc589845ca42",
   "metadata": {},
   "outputs": [
    {
     "name": "stderr",
     "output_type": "stream",
     "text": [
      "/tmp/ipykernel_1990/2056649582.py:4: DeprecationWarning: Please use `shift` from the `scipy.ndimage` namespace, the `scipy.ndimage.interpolation` namespace is deprecated.\n",
      "  from scipy.ndimage.interpolation import shift\n"
     ]
    }
   ],
   "source": [
    "import numpy as np\n",
    "import matplotlib.pyplot as plt\n",
    "import seaborn as sns\n",
    "from scipy.ndimage.interpolation import shift\n",
    "from scipy.stats import t, shapiro, gaussian_kde\n",
    "from scipy.optimize import minimize, fsolve\n",
    "import pandas as pd\n",
    "\n",
    "import pandas as pd\n",
    "import numpy as np\n",
    "\n",
    "def pd_return_calculate(prices, method=\"arithmetic\"):\n",
    "  price_change_percent = (prices / prices.shift(1))[1:]\n",
    "  if method == \"arithmetic\":\n",
    "    return price_change_percent - 1\n",
    "  elif method == \"log\":\n",
    "    return np.log(price_change_percent)\n",
    "\n",
    "# Read in data from CSV files\n",
    "prices = pd.read_csv(\"DailyPrices.csv\", parse_dates=[0], index_col=0)\n",
    "portfolios = pd.read_csv(\"portfolio.csv\")\n",
    "\n",
    "# Calculate returns of the prices using pd_return_calculate function\n",
    "returns = pd_return_calculate(prices)\n",
    "\n",
    "# Combine the portfolios to get a total one and append it to the end for easier calculation\n",
    "total_holdings = portfolios.groupby('Stock')['Holding'].sum().reset_index()\n",
    "total_holdings['Portfolio'] = 'Total'\n",
    "portfolios = pd.concat([portfolios, total_holdings])\n",
    "\n"
   ]
  },
  {
   "cell_type": "code",
   "execution_count": 39,
   "id": "0913efc3-becf-4639-9241-0b5ba8b2d99d",
   "metadata": {},
   "outputs": [
    {
     "name": "stdout",
     "output_type": "stream",
     "text": [
      "Portfolio A: -0.029139752917664838\n",
      "Portfolio B: -0.023451930005335624\n",
      "Portfolio C: -0.020245358398332185\n",
      "Portfolio Total: -0.02418477981250103\n"
     ]
    }
   ],
   "source": [
    "current_prices = pd.DataFrame({\"Price\":prices.iloc[-1]})\n",
    "\n",
    "for portfolio_index, portfolio in portfolios.groupby('Portfolio'):\n",
    "  portfolio = portfolio.set_index('Stock')\n",
    "  portfolio = portfolio.join(current_prices.loc[portfolio.index])\n",
    "\n",
    "  current_values = portfolio['Holding'] * portfolio['Price']\n",
    "  portfolio_value = current_values.sum()\n",
    "\n",
    "  sim_returns = returns[portfolio.index]\n",
    "  sim_prices = (1 + sim_returns) * portfolio['Price'].T\n",
    "  sim_values = sim_prices @ portfolio['Holding']\n",
    "\n",
    "  historic_var = calculate_var(sim_values, portfolio_value)\n",
    "  print(f\"Portfolio {portfolio_index}: \" + str(historic_var))"
   ]
  },
  {
   "cell_type": "code",
   "execution_count": 40,
   "id": "8700dd58-a64e-4859-b2b2-3bc3b48b73c7",
   "metadata": {},
   "outputs": [],
   "source": [
    "prices = pd.read_csv(\"DailyPrices.csv\", parse_dates=[0], index_col=0)\n",
    "portfolios = pd.read_csv(\"portfolio.csv\")\n",
    "\n",
    "# Calculate returns of the prices using pd_return_calculate function\n",
    "returns = pd_return_calculate(prices,method=\"log\")\n",
    "\n",
    "# Combine the portfolios to get a total one and append it to the end for easier calculation\n",
    "total_holdings = portfolios.groupby('Stock')['Holding'].sum().reset_index()\n",
    "total_holdings['Portfolio'] = 'Total'\n",
    "portfolios = pd.concat([portfolios, total_holdings])\n"
   ]
  },
  {
   "cell_type": "code",
   "execution_count": 41,
   "id": "107a6a1d-771d-4179-9c8c-c7a25e060380",
   "metadata": {},
   "outputs": [
    {
     "name": "stdout",
     "output_type": "stream",
     "text": [
      "Portfolio A: -0.029921111060540063\n",
      "Portfolio B: -0.023828369773231644\n",
      "Portfolio C: -0.020610134566705195\n",
      "Portfolio Total: -0.02462695687473913\n"
     ]
    }
   ],
   "source": [
    "current_prices = pd.DataFrame({\"Price\":prices.iloc[-1]})\n",
    "\n",
    "for portfolio_index, portfolio in portfolios.groupby('Portfolio'):\n",
    "  portfolio = portfolio.set_index('Stock')\n",
    "  portfolio = portfolio.join(current_prices.loc[portfolio.index])\n",
    "\n",
    "  current_values = portfolio['Holding'] * portfolio['Price']\n",
    "  portfolio_value = current_values.sum()\n",
    "\n",
    "  sim_returns = returns[portfolio.index]\n",
    "  sim_prices = (1 + sim_returns) * portfolio['Price'].T\n",
    "  sim_values = sim_prices @ portfolio['Holding']\n",
    "\n",
    "  historic_var = calculate_var(sim_values, portfolio_value)\n",
    "  print(f\"Portfolio {portfolio_index}: \" + str(historic_var))"
   ]
  },
  {
   "cell_type": "code",
   "execution_count": null,
   "id": "ea63baec-d50a-4cb4-b22a-d1ebccb71a87",
   "metadata": {},
   "outputs": [],
   "source": []
  }
 ],
 "metadata": {
  "kernelspec": {
   "display_name": "Python 3 (ipykernel)",
   "language": "python",
   "name": "python3"
  },
  "language_info": {
   "codemirror_mode": {
    "name": "ipython",
    "version": 3
   },
   "file_extension": ".py",
   "mimetype": "text/x-python",
   "name": "python",
   "nbconvert_exporter": "python",
   "pygments_lexer": "ipython3",
   "version": "3.9.7"
  }
 },
 "nbformat": 4,
 "nbformat_minor": 5
}
