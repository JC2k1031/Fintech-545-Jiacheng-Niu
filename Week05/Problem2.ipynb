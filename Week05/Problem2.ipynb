{
 "cells": [
  {
   "cell_type": "code",
   "execution_count": 27,
   "id": "e36cbac9-75ab-451a-b557-1803eed93ea4",
   "metadata": {},
   "outputs": [
    {
     "name": "stdout",
     "output_type": "stream",
     "text": [
      "[[ 3.37079087e-04 -6.63175284e-05  5.64046101e-05 ...  5.52355446e-05\n",
      "  -7.58188395e-05  2.47172156e-05]\n",
      " [-6.63175284e-05  3.46143461e-04 -7.27032534e-05 ... -2.00941016e-04\n",
      "  -1.75749707e-06 -1.22980999e-04]\n",
      " [ 5.64046101e-05 -7.27032534e-05  1.09591581e-04 ...  1.17355631e-04\n",
      "   1.61413518e-05  5.60414633e-05]\n",
      " ...\n",
      " [ 5.52355446e-05 -2.00941016e-04  1.17355631e-04 ...  4.85290024e-04\n",
      "   6.44970878e-05  1.16693897e-04]\n",
      " [-7.58188395e-05 -1.75749707e-06  1.61413518e-05 ...  6.44970878e-05\n",
      "   3.94282235e-04  1.26692518e-05]\n",
      " [ 2.47172156e-05 -1.22980999e-04  5.60414633e-05 ...  1.16693897e-04\n",
      "   1.26692518e-05  2.15989368e-04]]\n"
     ]
    }
   ],
   "source": [
    "import numpy as np\n",
    "import matplotlib.pyplot as plt\n",
    "import seaborn as sns\n",
    "from scipy.stats import norm, t\n",
    "import pandas as pd\n",
    "import lib \n",
    "\n",
    "\n",
    "\n",
    "#Covariance estimation techniques.\n",
    "\n",
    "return_data = np.genfromtxt('DailyReturn.csv', delimiter=',').T\n",
    "return_data = np.delete(return_data, 0, 0)\n",
    "return_data = np.delete(return_data, 0, 1)\n",
    "return_data = np.matrix(np.fliplr(return_data))\n",
    "\n",
    "\n",
    "ew_cov = lib.generate_ew_correlation_matrix_variance_vector(return_data, 0.97)\n",
    "print(ew_cov)\n",
    "\n",
    "\n"
   ]
  },
  {
   "cell_type": "code",
   "execution_count": 28,
   "id": "20c8cebb-da55-4676-b7cb-6fd2361d84af",
   "metadata": {},
   "outputs": [
    {
     "name": "stdout",
     "output_type": "stream",
     "text": [
      "True\n",
      "True\n"
     ]
    }
   ],
   "source": [
    "\n",
    "#Non PSD fixes for correlation matrices\n",
    "#near_psd\n",
    "\n",
    "n = 500\n",
    "sigma = np.full((n,n), 0.9)\n",
    "for i in range(n):\n",
    "    sigma[i,i] = 1.0\n",
    "sigma[0,1] = 0.7357\n",
    "sigma[1,0] = 0.7357\n",
    "\n",
    "def is_psd(matrix, tol=1e-7):\n",
    "    return np.all(np.linalg.eigvals(matrix) >= -tol)\n",
    "\n",
    "near_pairwise = lib.near_psd(sigma)\n",
    "print(is_psd(near_pairwise))\n",
    "\n",
    "fixed_matrix = lib.Higham(sigma)\n",
    "print(is_psd(fixed_matrix))"
   ]
  },
  {
   "cell_type": "code",
   "execution_count": 29,
   "id": "fcad2460-ec20-414a-ac1b-984c01850219",
   "metadata": {},
   "outputs": [
    {
     "ename": "NameError",
     "evalue": "name 'chol_pd' is not defined",
     "output_type": "error",
     "traceback": [
      "\u001b[0;31m---------------------------------------------------------------------------\u001b[0m",
      "\u001b[0;31mNameError\u001b[0m                                 Traceback (most recent call last)",
      "\u001b[0;32m/tmp/ipykernel_1053/4166228778.py\u001b[0m in \u001b[0;36m<module>\u001b[0;34m\u001b[0m\n\u001b[1;32m      4\u001b[0m \u001b[0ma\u001b[0m \u001b[0;34m=\u001b[0m \u001b[0mnp\u001b[0m\u001b[0;34m.\u001b[0m\u001b[0marray\u001b[0m\u001b[0;34m(\u001b[0m\u001b[0;34m[\u001b[0m\u001b[0;34m[\u001b[0m\u001b[0;36m4\u001b[0m\u001b[0;34m,\u001b[0m \u001b[0;36m2\u001b[0m\u001b[0;34m]\u001b[0m\u001b[0;34m,\u001b[0m \u001b[0;34m[\u001b[0m\u001b[0;36m2\u001b[0m\u001b[0;34m,\u001b[0m \u001b[0;36m5\u001b[0m\u001b[0;34m]\u001b[0m\u001b[0;34m]\u001b[0m\u001b[0;34m)\u001b[0m\u001b[0;34m\u001b[0m\u001b[0;34m\u001b[0m\u001b[0m\n\u001b[1;32m      5\u001b[0m \u001b[0mexpected_root\u001b[0m \u001b[0;34m=\u001b[0m \u001b[0mnp\u001b[0m\u001b[0;34m.\u001b[0m\u001b[0marray\u001b[0m\u001b[0;34m(\u001b[0m\u001b[0;34m[\u001b[0m\u001b[0;34m[\u001b[0m\u001b[0;36m2.0\u001b[0m\u001b[0;34m,\u001b[0m \u001b[0;36m0.0\u001b[0m\u001b[0;34m]\u001b[0m\u001b[0;34m,\u001b[0m \u001b[0;34m[\u001b[0m\u001b[0;36m1.0\u001b[0m\u001b[0;34m,\u001b[0m \u001b[0;36m2.0\u001b[0m\u001b[0;34m]\u001b[0m\u001b[0;34m]\u001b[0m\u001b[0;34m)\u001b[0m\u001b[0;34m\u001b[0m\u001b[0;34m\u001b[0m\u001b[0m\n\u001b[0;32m----> 6\u001b[0;31m \u001b[0mnp\u001b[0m\u001b[0;34m.\u001b[0m\u001b[0mtesting\u001b[0m\u001b[0;34m.\u001b[0m\u001b[0massert_allclose\u001b[0m\u001b[0;34m(\u001b[0m\u001b[0mchol_pd\u001b[0m\u001b[0;34m(\u001b[0m\u001b[0ma\u001b[0m\u001b[0;34m)\u001b[0m\u001b[0;34m,\u001b[0m \u001b[0mexpected_root\u001b[0m\u001b[0;34m,\u001b[0m \u001b[0mrtol\u001b[0m\u001b[0;34m=\u001b[0m\u001b[0;36m1e-10\u001b[0m\u001b[0;34m)\u001b[0m\u001b[0;34m\u001b[0m\u001b[0;34m\u001b[0m\u001b[0m\n\u001b[0m\u001b[1;32m      7\u001b[0m \u001b[0;34m\u001b[0m\u001b[0m\n\u001b[1;32m      8\u001b[0m \u001b[0;31m# Test with a 3x3 matrix\u001b[0m\u001b[0;34m\u001b[0m\u001b[0;34m\u001b[0m\u001b[0m\n",
      "\u001b[0;31mNameError\u001b[0m: name 'chol_pd' is not defined"
     ]
    }
   ],
   "source": [
    "#Simulation Methods\n",
    "\n",
    "# Test with a 2x2 matrix\n",
    "a = np.array([[4, 2], [2, 5]])\n",
    "expected_root = np.array([[2.0, 0.0], [1.0, 2.0]])\n",
    "np.testing.assert_allclose(chol_pd(a), expected_root, rtol=1e-10)\n",
    "\n",
    "# Test with a 3x3 matrix\n",
    "a = np.array([[9, -3, 0], [-3, 4, 2], [0, 2, 25]])\n",
    "expected_root = np.array([[3.0, 0.0, 0.0], [-1.0, 1.0, 0.0], [0.0, 2.0, 5.0]])\n",
    "np.testing.assert_allclose(chol_pd(a), expected_root, rtol=1e-10)\n",
    "\n",
    "\n",
    "\n",
    "#(another way)\n",
    "import lib\n",
    "import numpy as np\n",
    "\n",
    "return_data = np.genfromtxt('DailyReturn.csv', delimiter=',').T\n",
    "return_data = np.delete(return_data, 0, 0)\n",
    "return_data = np.delete(return_data, 0, 1)\n",
    "return_data = np.matrix(np.fliplr(return_data))\n",
    "\n",
    "\n",
    "ew_cov = lib.generate_ew_correlation_matrix_variance_vector(return_data, 0.97)\n",
    "\n",
    "n = 5\n",
    "sigma = np.zeros((n,n)) + 0.9\n",
    "for i in range(n):\n",
    "    sigma[i,i] = 1.0\n",
    "\n",
    "root = lib.chol_pd(sigma)\n",
    "\n",
    "np.allclose(np.dot(root, root.T), sigma)\n",
    "\n",
    "root2 = np.linalg.cholesky(sigma)\n",
    "np.allclose(root, root2)\n",
    "\n",
    "\n",
    "\n",
    "res_d = lib.direct_simulation(ew_cov)\n",
    "res_pca = lib.pca_simulation(ew_cov, pct_explained=0.75)\n",
    "print(res_d.shape)\n",
    "print(res_pca.shape)\n"
   ]
  },
  {
   "cell_type": "code",
   "execution_count": null,
   "id": "1a994ff9-842a-490a-b4bd-82001e3b2a12",
   "metadata": {},
   "outputs": [],
   "source": []
  },
  {
   "cell_type": "code",
   "execution_count": null,
   "id": "550a92de-eca4-4faf-9c1e-a4dea877d967",
   "metadata": {},
   "outputs": [],
   "source": []
  },
  {
   "cell_type": "code",
   "execution_count": 32,
   "id": "d29737b9-21e7-4b50-b835-6afbbbfbcc1e",
   "metadata": {},
   "outputs": [
    {
     "ename": "NameError",
     "evalue": "name 't_var' is not defined",
     "output_type": "error",
     "traceback": [
      "\u001b[0;31m---------------------------------------------------------------------------\u001b[0m",
      "\u001b[0;31mNameError\u001b[0m                                 Traceback (most recent call last)",
      "\u001b[0;32m/tmp/ipykernel_1053/59903879.py\u001b[0m in \u001b[0;36m<module>\u001b[0;34m\u001b[0m\n\u001b[1;32m      9\u001b[0m \u001b[0;34m\u001b[0m\u001b[0m\n\u001b[1;32m     10\u001b[0m \u001b[0;31m# Compute the VaR using the t-distribution method\u001b[0m\u001b[0;34m\u001b[0m\u001b[0;34m\u001b[0m\u001b[0m\n\u001b[0;32m---> 11\u001b[0;31m \u001b[0mvar_t\u001b[0m \u001b[0;34m=\u001b[0m \u001b[0mt_var\u001b[0m\u001b[0;34m(\u001b[0m\u001b[0mdata\u001b[0m\u001b[0;34m,\u001b[0m \u001b[0malpha\u001b[0m\u001b[0;34m=\u001b[0m\u001b[0;36m0.05\u001b[0m\u001b[0;34m)\u001b[0m\u001b[0;34m\u001b[0m\u001b[0;34m\u001b[0m\u001b[0m\n\u001b[0m\u001b[1;32m     12\u001b[0m \u001b[0;34m\u001b[0m\u001b[0m\n\u001b[1;32m     13\u001b[0m \u001b[0;31m# Print the result\u001b[0m\u001b[0;34m\u001b[0m\u001b[0;34m\u001b[0m\u001b[0m\n",
      "\u001b[0;31mNameError\u001b[0m: name 't_var' is not defined"
     ]
    }
   ],
   "source": [
    "#VaR calculation methods (all discussed)\n",
    "import numpy as np\n",
    "import scipy.stats\n",
    "import lib\n",
    "\n",
    "# Generate some sample data from a normal distribution\n",
    "np.random.seed(42)\n",
    "data = np.random.normal(0, 1, size=100)\n",
    "# Compute the VaR using the t-distribution method\n",
    "var_t = t_var(data, alpha=0.05)\n",
    "# Print the result\n",
    "print(f\"VaR using t-distribution method: {var_t:.2f}\")\n",
    "\n",
    "\n",
    "# Generate some sample data from a normal distribution\n",
    "np.random.seed(42)\n",
    "data = np.random.normal(0, 1, size=100)\n",
    "# Sort the returns in descending order\n",
    "sorted_returns = np.sort(data)[::-1]\n",
    "# Compute the historical VaR\n",
    "var_hist = history(data, len(data), sorted_returns, alpha=0.05)\n",
    "# Print the result\n",
    "print(f\"Historical VaR: {var_hist:.2f}\")\n",
    "\n",
    "\n",
    "\n",
    "# Generate some sample data from a normal distribution\n",
    "np.random.seed(42)\n",
    "data = np.random.normal(0, 1, size=100)\n",
    "\n",
    "# Compute the VaR\n",
    "var = calculate_var(data, mean=0, alpha=0.05)\n",
    "\n",
    "# Print the result\n",
    "print(f\"Value at Risk: {var:.2f}\")\n",
    "\n",
    "\n",
    "\n",
    "\n",
    "\n",
    "#another way\n",
    "sample_return = (return_data[0] - return_data[0].mean()).T\n",
    "var_basic = lib.calculate_var(sample_return)\n",
    "var_his = lib.history(sample_return)\n",
    "var_t = lib.t_var(sample_return)\n",
    "\n"
   ]
  },
  {
   "cell_type": "code",
   "execution_count": 31,
   "id": "bcbb551e-3259-4461-bb1c-dd445926c788",
   "metadata": {},
   "outputs": [
    {
     "ename": "NameError",
     "evalue": "name 'calculate_es' is not defined",
     "output_type": "error",
     "traceback": [
      "\u001b[0;31m---------------------------------------------------------------------------\u001b[0m",
      "\u001b[0;31mNameError\u001b[0m                                 Traceback (most recent call last)",
      "\u001b[0;32m/tmp/ipykernel_1053/1826743533.py\u001b[0m in \u001b[0;36m<module>\u001b[0;34m\u001b[0m\n\u001b[1;32m      8\u001b[0m \u001b[0;34m\u001b[0m\u001b[0m\n\u001b[1;32m      9\u001b[0m \u001b[0;31m# Compute the ES\u001b[0m\u001b[0;34m\u001b[0m\u001b[0;34m\u001b[0m\u001b[0m\n\u001b[0;32m---> 10\u001b[0;31m \u001b[0mes\u001b[0m \u001b[0;34m=\u001b[0m \u001b[0mcalculate_es\u001b[0m\u001b[0;34m(\u001b[0m\u001b[0mdata\u001b[0m\u001b[0;34m,\u001b[0m \u001b[0malpha\u001b[0m\u001b[0;34m=\u001b[0m\u001b[0;36m0.05\u001b[0m\u001b[0;34m)\u001b[0m\u001b[0;34m\u001b[0m\u001b[0;34m\u001b[0m\u001b[0m\n\u001b[0m\u001b[1;32m     11\u001b[0m \u001b[0;34m\u001b[0m\u001b[0m\n\u001b[1;32m     12\u001b[0m \u001b[0;31m# Print the result\u001b[0m\u001b[0;34m\u001b[0m\u001b[0;34m\u001b[0m\u001b[0m\n",
      "\u001b[0;31mNameError\u001b[0m: name 'calculate_es' is not defined"
     ]
    }
   ],
   "source": [
    "# ES calculation\n",
    "import numpy as np\n",
    "import lib\n",
    "\n",
    "# Generate some sample data from a normal distribution\n",
    "np.random.seed(42)\n",
    "data = np.random.normal(0, 1, size=100)\n",
    "\n",
    "# Compute the ES\n",
    "es = calculate_es(data, alpha=0.05)\n",
    "\n",
    "# Print the result\n",
    "print(f\"Expected Shortfall: {es:.2f}\")\n",
    "\n",
    "\n",
    "\n",
    "\n",
    "\n",
    "#another way\n",
    "es = lib.calculate_es(sample_return)\n",
    "print(es)\n"
   ]
  },
  {
   "cell_type": "code",
   "execution_count": null,
   "id": "1a98e8e8-1c01-46f8-89ed-254f0e1ec1b2",
   "metadata": {},
   "outputs": [],
   "source": []
  },
  {
   "cell_type": "code",
   "execution_count": null,
   "id": "fbcfd637-78d5-4307-90df-5bde98d31543",
   "metadata": {},
   "outputs": [],
   "source": []
  },
  {
   "cell_type": "code",
   "execution_count": null,
   "id": "c5919399-c75c-4520-8283-71dcdcd177be",
   "metadata": {},
   "outputs": [],
   "source": []
  },
  {
   "cell_type": "code",
   "execution_count": null,
   "id": "0a243c85-eed8-49d8-8d0c-430f8e4dd6c1",
   "metadata": {},
   "outputs": [],
   "source": []
  }
 ],
 "metadata": {
  "kernelspec": {
   "display_name": "Python 3 (ipykernel)",
   "language": "python",
   "name": "python3"
  },
  "language_info": {
   "codemirror_mode": {
    "name": "ipython",
    "version": 3
   },
   "file_extension": ".py",
   "mimetype": "text/x-python",
   "name": "python",
   "nbconvert_exporter": "python",
   "pygments_lexer": "ipython3",
   "version": "3.9.7"
  }
 },
 "nbformat": 4,
 "nbformat_minor": 5
}
