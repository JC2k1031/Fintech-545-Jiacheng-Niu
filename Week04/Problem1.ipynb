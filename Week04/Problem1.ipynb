{
 "cells": [
  {
   "cell_type": "code",
   "execution_count": 58,
   "id": "e913bee7-a55c-42d5-9f14-0c9b16368290",
   "metadata": {},
   "outputs": [
    {
     "name": "stdout",
     "output_type": "stream",
     "text": [
      "Sample mean of simulated prices:  100.00019637357447\n",
      "Sample standard deviation of simulated prices:  0.20013157425283348\n"
     ]
    }
   ],
   "source": [
    "import numpy as np\n",
    "\n",
    "# Define the parameters\n",
    "P0 = 100  # Initial price\n",
    "theta = 0.2  # Standard deviation of r\n",
    "t = 1  # Time period\n",
    "N = 100000  # Number of time steps\n",
    "\n",
    "# Set the random seed for reproducibility\n",
    "np.random.seed(1234)\n",
    "\n",
    "# Generate a list of random normal variables with mean 0 and standard deviation theta^2\n",
    "r = np.random.normal(0, theta, N)\n",
    "#print(r)\n",
    "# Initialize the list of prices with P0\n",
    "prices = [P0]\n",
    "\n",
    "# Generate the list of prices using the formula Pt = Pt-1 + r\n",
    "for i in range(1, N):\n",
    "    P_t = P0 + r[i-1]\n",
    "    prices.append(P_t)\n",
    "\n",
    "# Print the list of prices\n",
    "#print(\"List of prices: \", prices)\n",
    "sample_mean = np.mean(prices)\n",
    "sample_std = np.std(prices)\n",
    "print(\"Sample mean of simulated prices: \", sample_mean)\n",
    "print(\"Sample standard deviation of simulated prices: \", sample_std)"
   ]
  },
  {
   "cell_type": "code",
   "execution_count": 59,
   "id": "2322ec76-6422-4373-a2b5-44ca79bafc4c",
   "metadata": {},
   "outputs": [
    {
     "name": "stdout",
     "output_type": "stream",
     "text": [
      "Sample mean of simulated prices:  100.01963735744897\n",
      "Sample standard deviation of simulated prices:  20.013157425283353\n"
     ]
    }
   ],
   "source": [
    "import numpy as np\n",
    "\n",
    "# Define the parameters\n",
    "P0 = 100  # Initial price\n",
    "theta = 0.2  # Standard deviation of r\n",
    "t = 1  # Time period\n",
    "N = 100000  # Number of time steps\n",
    "\n",
    "# Set the random seed for reproducibility\n",
    "np.random.seed(1234)\n",
    "\n",
    "# Generate a list of random normal variables with mean 0 and standard deviation theta^2\n",
    "r = np.random.normal(0, theta, N)\n",
    "#print(r)\n",
    "# Initialize the list of prices with P0\n",
    "prices = [P0]\n",
    "\n",
    "# Generate the list of prices using the formula Pt = Pt-1 + r\n",
    "for i in range(1, N):\n",
    "    P_t = P0 * (1+r[i-1])\n",
    "    prices.append(P_t)\n",
    "\n",
    "# Print the list of prices\n",
    "#print(\"List of prices: \", prices)\n",
    "sample_mean = np.mean(prices)\n",
    "sample_std = np.std(prices)\n",
    "print(\"Sample mean of simulated prices: \", sample_mean)\n",
    "print(\"Sample standard deviation of simulated prices: \", sample_std)"
   ]
  },
  {
   "cell_type": "code",
   "execution_count": 60,
   "id": "dd82147b-93be-4d31-91b3-7fffda337f6a",
   "metadata": {},
   "outputs": [
    {
     "name": "stdout",
     "output_type": "stream",
     "text": [
      "Sample mean of simulated prices:  102.04224179655556\n",
      "Sample standard deviation of simulated prices:  20.61372162463448\n"
     ]
    }
   ],
   "source": [
    "import numpy as np\n",
    "\n",
    "# Define the parameters\n",
    "P0 = 100  # Initial price\n",
    "theta = 0.2  # Standard deviation of r\n",
    "t = 1  # Time period\n",
    "N = 100000  # Number of time steps\n",
    "\n",
    "# Set the random seed for reproducibility\n",
    "np.random.seed(1234)\n",
    "\n",
    "# Generate a list of random normal variables with mean 0 and standard deviation theta^2\n",
    "r = np.random.normal(0, theta, N)\n",
    "#print(r)\n",
    "# Initialize the list of prices with P0\n",
    "prices = [P0]\n",
    "\n",
    "# Generate the list of prices using the formula Pt = Pt-1 + r\n",
    "for i in range(1, N):\n",
    "    P_t = P0 * math.exp(r[i-1])\n",
    "    prices.append(P_t)\n",
    "\n",
    "# Print the list of prices\n",
    "#print(\"List of prices: \", prices)\n",
    "sample_mean = np.mean(prices)\n",
    "sample_std = np.std(prices)\n",
    "print(\"Sample mean of simulated prices: \", sample_mean)\n",
    "print(\"Sample standard deviation of simulated prices: \", sample_std)"
   ]
  },
  {
   "cell_type": "code",
   "execution_count": null,
   "id": "bb5263d4-ab63-42a7-b9da-77f431eddae6",
   "metadata": {},
   "outputs": [],
   "source": []
  }
 ],
 "metadata": {
  "kernelspec": {
   "display_name": "Python 3 (ipykernel)",
   "language": "python",
   "name": "python3"
  },
  "language_info": {
   "codemirror_mode": {
    "name": "ipython",
    "version": 3
   },
   "file_extension": ".py",
   "mimetype": "text/x-python",
   "name": "python",
   "nbconvert_exporter": "python",
   "pygments_lexer": "ipython3",
   "version": "3.9.7"
  }
 },
 "nbformat": 4,
 "nbformat_minor": 5
}
