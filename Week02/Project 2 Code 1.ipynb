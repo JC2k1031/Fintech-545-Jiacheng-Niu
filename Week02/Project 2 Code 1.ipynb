{
 "cells": [
  {
   "cell_type": "code",
   "execution_count": 30,
   "id": "2d94288a-881b-40bf-8ab0-9d30831fd230",
   "metadata": {},
   "outputs": [
    {
     "name": "stdout",
     "output_type": "stream",
     "text": [
      "Sample skew mean: -0.0001425003934247353\n",
      "Population skew: 0.0\n",
      "t-statistic for skew: -0.5761060556361377\n",
      "p-value for skew: 0.5646732597712352\n",
      "Sample kurtosis mean: 2.9988681485553332\n",
      "Population kurtosis: 0.0\n",
      "t-statistic for kurtosis: 6076.266908023609\n",
      "p-value for kurtosis: 0.0\n",
      "The p-value for skew is greater than 0.05, cannot reject the null hypothesis.\n",
      "The p-value for kurtosis is less than 0.05, reject the null hypothesis.\n"
     ]
    }
   ],
   "source": [
    "'''Problem 1'''\n",
    "import numpy as np\n",
    "from scipy.stats import norm, skew, kurtosis, ttest_1samp\n",
    "\n",
    "d = norm(0, 1)\n",
    "samples = 1000\n",
    "sample_size = 100000\n",
    "\n",
    "\n",
    "samples = d.rvs((samples, sample_size))\n",
    "\n",
    "\n",
    "sample_skew = skew(samples, axis=1, bias=False)\n",
    "sample_kurtosis = kurtosis(samples, axis=1, fisher=False, bias=False)\n",
    "\n",
    "\n",
    "sample_skew_mean = np.mean(sample_skew)\n",
    "pop_skew = d.stats(moments='s')\n",
    "\n",
    "sample_kurtosis_mean = np.mean(sample_kurtosis)\n",
    "pop_kurtosis = d.stats(moments='k')\n",
    "\n",
    "t_skew, p_skew = ttest_1samp(sample_skew, pop_skew)\n",
    "t_kurtosis, p_kurtosis = ttest_1samp(sample_kurtosis, pop_kurtosis)\n",
    "\n",
    "print(\"Sample skew mean:\", sample_skew_mean)\n",
    "print(\"Population skew:\", pop_skew)\n",
    "print(\"t-statistic for skew:\", t_skew)\n",
    "print(\"p-value for skew:\", p_skew)\n",
    "\n",
    "print(\"Sample kurtosis mean:\", sample_kurtosis_mean)\n",
    "print(\"Population kurtosis:\", pop_kurtosis)\n",
    "print(\"t-statistic for kurtosis:\", t_kurtosis)\n",
    "print(\"p-value for kurtosis:\", p_kurtosis)\n",
    "\n",
    "if p_skew > 0.05:\n",
    "    print(\"The p-value for skew is greater than 0.05, cannot reject the null hypothesis.\")\n",
    "else:\n",
    "    print(\"The p-value for skew is less than 0.05, reject the null hypothesis.\")\n",
    "\n",
    "if p_kurtosis > 0.05:\n",
    "    print(\"The p-value for kurtosis is greater than 0.05, cannot reject the null hypothesis.\")\n",
    "else:\n",
    "    print(\"The p-value for kurtosis is less than 0.05, reject the null hypothesis.\")\n"
   ]
  },
  {
   "cell_type": "code",
   "execution_count": null,
   "id": "c52158d8-e07f-4101-ab1b-0d228468cbb4",
   "metadata": {},
   "outputs": [],
   "source": []
  },
  {
   "cell_type": "code",
   "execution_count": null,
   "id": "a8fa3cc7-d894-4a8b-8c82-04cf4c0a1f35",
   "metadata": {},
   "outputs": [],
   "source": []
  },
  {
   "cell_type": "code",
   "execution_count": null,
   "id": "b9fa2e76-4475-4728-8497-efe9b9efec43",
   "metadata": {},
   "outputs": [],
   "source": []
  },
  {
   "cell_type": "code",
   "execution_count": null,
   "id": "23d6f1a1-34e9-46ad-88e8-b85e602ed2c7",
   "metadata": {},
   "outputs": [],
   "source": []
  }
 ],
 "metadata": {
  "kernelspec": {
   "display_name": "Python 3 (ipykernel)",
   "language": "python",
   "name": "python3"
  },
  "language_info": {
   "codemirror_mode": {
    "name": "ipython",
    "version": 3
   },
   "file_extension": ".py",
   "mimetype": "text/x-python",
   "name": "python",
   "nbconvert_exporter": "python",
   "pygments_lexer": "ipython3",
   "version": "3.9.7"
  }
 },
 "nbformat": 4,
 "nbformat_minor": 5
}
